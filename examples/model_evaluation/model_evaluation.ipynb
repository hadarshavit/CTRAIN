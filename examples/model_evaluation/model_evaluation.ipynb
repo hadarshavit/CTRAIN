{
 "cells": [
  {
   "cell_type": "markdown",
   "id": "7e6123eb-cb81-487d-b3ae-222a5cf896d1",
   "metadata": {},
   "source": [
    "# Evaluation of models using CTRAIN\n",
    "\n",
    "In this example, we evaluate a network trained on the MNIST dataset against $l_\\infty$ perturbations with radius $\\epsilon = 0.1$ in terms of standard accuracy, adversarial accuracy and certified accuracy.\n"
   ]
  },
  {
   "cell_type": "markdown",
   "id": "d748a9c7-168a-428a-936e-4375830e1878",
   "metadata": {},
   "source": [
    "First, we import the necessary `torch` library and `CTRAIN` functions"
   ]
  },
  {
   "cell_type": "code",
   "execution_count": 1,
   "id": "9cde5a12-d1dd-4da0-83e7-3f3f2dfcbeb9",
   "metadata": {},
   "outputs": [
    {
     "name": "stdout",
     "output_type": "stream",
     "text": [
      "Adding complete_verifier to sys.path\n"
     ]
    }
   ],
   "source": [
    "import torch\n",
    "\n",
    "from CTRAIN.model_definitions import CNN7_Shi\n",
    "from CTRAIN.model_wrappers import ShiIBPModelWrapper\n",
    "from CTRAIN.data_loaders import load_mnist"
   ]
  },
  {
   "cell_type": "markdown",
   "id": "ea228047-0046-455f-a4c1-e9a708e5fbd1",
   "metadata": {},
   "source": [
    "Thereafter, we load the MNIST dataset and define the neural network."
   ]
  },
  {
   "cell_type": "code",
   "execution_count": 2,
   "id": "c48e21bf-87fa-48ed-8b03-355b2beeb6c3",
   "metadata": {},
   "outputs": [
    {
     "name": "stdout",
     "output_type": "stream",
     "text": [
      "MNIST dataset - Min value: -0.4242129623889923, Max value: 2.821486711502075\n"
     ]
    }
   ],
   "source": [
    "in_shape = [1, 28, 28]\n",
    "train_loader, test_loader = load_mnist(batch_size=128, val_split=False, data_root=\"../../data\")\n",
    "\n",
    "model = CNN7_Shi(in_shape=in_shape, n_classes=10)"
   ]
  },
  {
   "cell_type": "markdown",
   "id": "283541bc-9fff-41b1-84c1-da19ab5cfe2f",
   "metadata": {},
   "source": [
    "To evaluate the network, we have to wrap it around one of the model wrappers of `CTRAIN`. Here, we choose the Shi IBP wrapper, but all wrappers behave the same regarding evaluation."
   ]
  },
  {
   "cell_type": "code",
   "execution_count": 3,
   "id": "9500b8eb-c63b-4a0e-bfc7-aec7e3368f74",
   "metadata": {},
   "outputs": [],
   "source": [
    "wrapped_model = ShiIBPModelWrapper(\n",
    "    model, \n",
    "    input_shape=in_shape, \n",
    "    eps=0.1,\n",
    "    num_epochs=70\n",
    ")"
   ]
  },
  {
   "cell_type": "markdown",
   "id": "b4f081e0-7f9f-4be3-b94f-c07b66b8865f",
   "metadata": {},
   "source": [
    "Now, we load the weights obtained from a previous training run (see the tutorial \"Certified Training with CTRAIN\")."
   ]
  },
  {
   "cell_type": "code",
   "execution_count": 4,
   "id": "a7b381f6-2732-48e6-a3d8-4653655b6e23",
   "metadata": {},
   "outputs": [
    {
     "data": {
      "text/plain": [
       "<All keys matched successfully>"
      ]
     },
     "execution_count": 4,
     "metadata": {},
     "output_type": "execute_result"
    }
   ],
   "source": [
    "wrapped_model.load_state_dict(torch.load('../../mnist_0.1_model.pt'))"
   ]
  },
  {
   "cell_type": "markdown",
   "id": "4247a561-c6d6-4d6f-bb8b-510902571d09",
   "metadata": {},
   "source": [
    "To get a rough assessment of the model performance, we call the evaluate function that uses the cheap incomplete verification methods IBP, CROWN-IBP and CROWN for certification. In addition, the PGD attack is run to identify adversarial examples for which the network is not robust. To save resources, we carry out the evaluation only for the first 1000 images of the test set."
   ]
  },
  {
   "cell_type": "code",
   "execution_count": 11,
   "id": "0910cdfd-5a36-4152-83b0-8cb486ed9ab1",
   "metadata": {},
   "outputs": [
    {
     "name": "stderr",
     "output_type": "stream",
     "text": [
      "79it [00:00, 118.32it/s]"
     ]
    },
    {
     "name": "stdout",
     "output_type": "stream",
     "text": [
      "certified 990.0 / 1024 using IBP\n"
     ]
    },
    {
     "name": "stderr",
     "output_type": "stream",
     "text": [
      "\n",
      "10000it [00:02, 4481.84it/s]"
     ]
    },
    {
     "name": "stdout",
     "output_type": "stream",
     "text": [
      "certified 967.0 / 1000 after using CROWN\n"
     ]
    },
    {
     "name": "stderr",
     "output_type": "stream",
     "text": [
      "\n",
      "8it [00:08,  1.12s/it]\n"
     ]
    }
   ],
   "source": [
    "std_acc, cert_acc, adv_acc = wrapped_model.evaluate(test_loader, test_samples=1_000)"
   ]
  },
  {
   "cell_type": "markdown",
   "id": "9ecf3ae5-b103-4ba8-954a-91e47774c9c1",
   "metadata": {},
   "source": [
    "When printing the accuracy values, we see that the network is provably robust for 96.70% of the first 1000 images in the MNIST test set."
   ]
  },
  {
   "cell_type": "code",
   "execution_count": 12,
   "id": "f8c73a8e-ac67-49c5-9fcc-f4be6afd5d60",
   "metadata": {},
   "outputs": [
    {
     "name": "stdout",
     "output_type": "stream",
     "text": [
      "Standard Accuracy 0.992\n",
      "Certified Accuracy 0.9670000672340393\n",
      "Adversarial Accuracy 0.978\n"
     ]
    }
   ],
   "source": [
    "print(f\"Standard Accuracy {std_acc}\")\n",
    "print(f\"Certified Accuracy {cert_acc}\")\n",
    "print(f\"Adversarial Accuracy {adv_acc}\")"
   ]
  },
  {
   "cell_type": "markdown",
   "id": "88a640c1-4020-487b-8b69-27a6873e3bd6",
   "metadata": {},
   "source": [
    "However, these values were obtained using incomplete methods. Let's investigate whether we can achieve a more precise measurement using complete verification with $\\alpha\\beta$-CROWN."
   ]
  },
  {
   "cell_type": "code",
   "execution_count": null,
   "id": "cacba1da-913c-4600-912a-870ff4b71464",
   "metadata": {},
   "outputs": [],
   "source": [
    "std_acc, cert_acc, adv_acc = wrapped_model.evaluate_complete(test_loader, test_samples=1_000)"
   ]
  },
  {
   "cell_type": "code",
   "execution_count": 10,
   "id": "0a008849-5e17-4b69-b565-4f59d3d092ac",
   "metadata": {},
   "outputs": [
    {
     "name": "stdout",
     "output_type": "stream",
     "text": [
      "Standard Accuracy 0.992\n",
      "Certified Accuracy 0.9780000448226929\n",
      "Adversarial Accuracy 0.9779999852180481\n"
     ]
    }
   ],
   "source": [
    "print(f\"Standard Accuracy {std_acc}\")\n",
    "print(f\"Certified Accuracy {cert_acc}\")\n",
    "print(f\"Adversarial Accuracy {adv_acc}\")"
   ]
  },
  {
   "cell_type": "markdown",
   "id": "4243865a-1121-4894-88f4-6d1def48d5fc",
   "metadata": {},
   "source": [
    "After the complete evaluation, we see that we got a definitive result for each input as indicated by matching certified and adversarial accuracy. Complete verification revealed, that every input for which we could not find an adversarial example using PGD is actually certifiably robust. Thus, we conclude that the network achieves a certified accuracy of 97.8% on the first 1000 MNIST test images."
   ]
  }
 ],
 "metadata": {
  "kernelspec": {
   "display_name": "Python 3 (ipykernel)",
   "language": "python",
   "name": "python3"
  },
  "language_info": {
   "codemirror_mode": {
    "name": "ipython",
    "version": 3
   },
   "file_extension": ".py",
   "mimetype": "text/x-python",
   "name": "python",
   "nbconvert_exporter": "python",
   "pygments_lexer": "ipython3",
   "version": "3.11.5"
  }
 },
 "nbformat": 4,
 "nbformat_minor": 5
}
